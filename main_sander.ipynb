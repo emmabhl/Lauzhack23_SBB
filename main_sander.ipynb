{
 "cells": [
  {
   "cell_type": "code",
   "execution_count": 9,
   "metadata": {},
   "outputs": [],
   "source": [
    "import api_requests as api\n",
    "import helpers_sander as helpers"
   ]
  },
  {
   "cell_type": "code",
   "execution_count": 10,
   "metadata": {},
   "outputs": [],
   "source": [
    "# Test data\n",
    "params = {\"origin\": \"8503000\", \n",
    "          \"destination\": \"8507000\", \n",
    "          \"date\": \"2023-04-18\", \n",
    "          \"time\": \"13:07\"}"
   ]
  },
  {
   "cell_type": "code",
   "execution_count": 11,
   "metadata": {},
   "outputs": [],
   "source": [
    "# Use the function use_token() to get a token\n",
    "token = api.use_token()"
   ]
  },
  {
   "cell_type": "code",
   "execution_count": 12,
   "metadata": {},
   "outputs": [
    {
     "data": {
      "text/plain": [
       "dict_keys(['trips', 'paginationCursor'])"
      ]
     },
     "execution_count": 12,
     "metadata": {},
     "output_type": "execute_result"
    }
   ],
   "source": [
    "# Get a journey\n",
    "journey = api.get_journey(origin=params['origin'], destination=params['destination'], date=params['date'], time=params['time'])\n",
    "\n",
    "# Facts on the results\n",
    "journey.keys()"
   ]
  },
  {
   "cell_type": "code",
   "execution_count": 13,
   "metadata": {},
   "outputs": [
    {
     "data": {
      "text/plain": [
       "dict_keys(['type', 'mode', 'id', 'duration', 'serviceJourney', 'paginationCursor'])"
      ]
     },
     "execution_count": 13,
     "metadata": {},
     "output_type": "execute_result"
    }
   ],
   "source": [
    "journey[\"trips\"][0][\"legs\"][0].keys()"
   ]
  },
  {
   "cell_type": "code",
   "execution_count": 14,
   "metadata": {},
   "outputs": [
    {
     "data": {
      "text/plain": [
       "dict_keys(['id', 'legs', 'status', 'fastTransfer', 'transfers', 'duration', 'pagingChecksum', 'operatingPeriods'])"
      ]
     },
     "execution_count": 14,
     "metadata": {},
     "output_type": "execute_result"
    }
   ],
   "source": [
    "journey[\"trips\"][0].keys()"
   ]
  },
  {
   "cell_type": "code",
   "execution_count": 16,
   "metadata": {},
   "outputs": [
    {
     "name": "stdout",
     "output_type": "stream",
     "text": [
      "Duration of trip 1 : PT1H16M so 76 minutes.\n",
      "Duration of trip 2 : PT56M so 56 minutes.\n",
      "Duration of trip 3 : PT1H18M so 78 minutes.\n",
      "Duration of trip 4 : PT1H28M so 88 minutes.\n",
      "Duration of trip 5 : PT56M so 56 minutes.\n"
     ]
    }
   ],
   "source": [
    "# Get all of the trips' durations\n",
    "trip_durations = helpers.trip_durations(journey[\"trips\"])\n",
    "\n",
    "# Print them\n",
    "for i, trip in enumerate(journey[\"trips\"]):\n",
    "    print(f\"Duration of trip {i+1} :\", trip[\"duration\"], \"so\", trip_durations[i], \"minutes.\")"
   ]
  }
 ],
 "metadata": {
  "kernelspec": {
   "display_name": "LH23",
   "language": "python",
   "name": "python3"
  },
  "language_info": {
   "codemirror_mode": {
    "name": "ipython",
    "version": 3
   },
   "file_extension": ".py",
   "mimetype": "text/x-python",
   "name": "python",
   "nbconvert_exporter": "python",
   "pygments_lexer": "ipython3",
   "version": "3.11.5"
  }
 },
 "nbformat": 4,
 "nbformat_minor": 2
}
