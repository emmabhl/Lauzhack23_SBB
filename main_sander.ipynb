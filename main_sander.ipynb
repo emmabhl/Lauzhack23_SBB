{
 "cells": [
  {
   "cell_type": "code",
   "execution_count": 1,
   "metadata": {},
   "outputs": [],
   "source": [
    "import api_requests as api\n",
    "import helpers_sander as helpers"
   ]
  },
  {
   "cell_type": "code",
   "execution_count": 2,
   "metadata": {},
   "outputs": [],
   "source": [
    "# Test data\n",
    "params = {\"origin\": \"8503000\", \n",
    "          \"destination\": \"8507000\", \n",
    "          \"date\": \"2023-04-18\", \n",
    "          \"time\": \"13:07\"}"
   ]
  },
  {
   "cell_type": "code",
   "execution_count": 3,
   "metadata": {},
   "outputs": [],
   "source": [
    "# Use the function use_token() to get a token\n",
    "api.use_token()"
   ]
  },
  {
   "cell_type": "code",
   "execution_count": 4,
   "metadata": {},
   "outputs": [
    {
     "data": {
      "text/plain": [
       "dict_keys(['trips', 'paginationCursor'])"
      ]
     },
     "execution_count": 4,
     "metadata": {},
     "output_type": "execute_result"
    }
   ],
   "source": [
    "# Get a journey\n",
    "journey = api.get_journey(origin=params['origin'], destination=params['destination'], date=params['date'], time=params['time'])\n",
    "\n",
    "# Facts on the results\n",
    "journey.keys()"
   ]
  },
  {
   "cell_type": "code",
   "execution_count": 5,
   "metadata": {},
   "outputs": [
    {
     "name": "stdout",
     "output_type": "stream",
     "text": [
      "Duration of trip 1 : PT1H16M so 76 minutes.\n",
      "Duration of trip 2 : PT56M so 56 minutes.\n",
      "Duration of trip 3 : PT1H18M so 78 minutes.\n",
      "Duration of trip 4 : PT1H28M so 88 minutes.\n",
      "Duration of trip 5 : PT56M so 56 minutes.\n"
     ]
    }
   ],
   "source": [
    "# Get all of the trips' durations\n",
    "trip_durations = helpers.trip_durations(journey[\"trips\"])\n",
    "\n",
    "# Print them\n",
    "for i, trip in enumerate(journey[\"trips\"]):\n",
    "    print(f\"Duration of trip {i+1} :\", trip[\"duration\"], \"so\", trip_durations[i], \"minutes.\")"
   ]
  },
  {
   "cell_type": "code",
   "execution_count": 6,
   "metadata": {},
   "outputs": [],
   "source": [
    "place_params = {\"longitude\": 8.5441, \n",
    "                \"latitude\": 47.4115, \n",
    "                \"radius\": 1000, \n",
    "                \"type\": \"StopPlace\",\n",
    "                \"limit\": 10, \n",
    "                \"includeVehicleModes\":True}"
   ]
  },
  {
   "cell_type": "code",
   "execution_count": 7,
   "metadata": {},
   "outputs": [
    {
     "data": {
      "text/plain": [
       "[{'type': 'StopPlace',\n",
       "  'id': '8503006',\n",
       "  'name': 'Zürich Oerlikon',\n",
       "  'canton': 'ZH',\n",
       "  'centroid': {'type': 'Point', 'coordinates': [8.544112, 47.411527]},\n",
       "  'distanceToSearchPosition': 3,\n",
       "  'tariffBorder': False,\n",
       "  'weighting': 12594,\n",
       "  'vehicleModes': [{'id': 'BUS',\n",
       "    'name': 'Bus',\n",
       "    'corporateIdentityIcon': 'SBB_oev_b_t06',\n",
       "    'vehicleSubModeName': 'Bus',\n",
       "    'vehicleSubModeShortName': 'B'},\n",
       "   {'id': 'TRAIN',\n",
       "    'name': 'Train',\n",
       "    'corporateIdentityIcon': 'SBB_oev_b_t02',\n",
       "    'vehicleSubModeName': 'Night-urban train',\n",
       "    'vehicleSubModeShortName': 'SN'},\n",
       "   {'id': 'TRAIN',\n",
       "    'name': 'Train',\n",
       "    'corporateIdentityIcon': 'SBB_oev_b_t02',\n",
       "    'vehicleSubModeName': 'RegioExpress',\n",
       "    'vehicleSubModeShortName': 'RE'},\n",
       "   {'id': 'TRAIN',\n",
       "    'name': 'Train',\n",
       "    'corporateIdentityIcon': 'SBB_oev_b_t02',\n",
       "    'vehicleSubModeName': 'Urban train',\n",
       "    'vehicleSubModeShortName': 'S'},\n",
       "   {'id': 'TRAIN',\n",
       "    'name': 'Train',\n",
       "    'corporateIdentityIcon': 'SBB_oev_b_t02',\n",
       "    'vehicleSubModeName': 'Special train',\n",
       "    'vehicleSubModeShortName': 'EXT'},\n",
       "   {'id': 'TRAIN',\n",
       "    'name': 'Train',\n",
       "    'corporateIdentityIcon': 'SBB_oev_b_t02',\n",
       "    'vehicleSubModeName': 'InterCity',\n",
       "    'vehicleSubModeShortName': 'IC'},\n",
       "   {'id': 'TRAIN',\n",
       "    'name': 'Train',\n",
       "    'corporateIdentityIcon': 'SBB_oev_b_t02',\n",
       "    'vehicleSubModeName': 'InterRegio',\n",
       "    'vehicleSubModeShortName': 'IR'}],\n",
       "  'links': {'detail': '/v3/stop-places/8503006'}}]"
      ]
     },
     "execution_count": 7,
     "metadata": {},
     "output_type": "execute_result"
    }
   ],
   "source": [
    "# Get nearby places\n",
    "nearby_places = api.get_nearby_places(longitude=place_params['longitude'], latitude=place_params['latitude'], radius=place_params['radius'], type=place_params['type'], limit=place_params['limit'], includeVehicleModes=place_params['includeVehicleModes'])\n",
    "get_train_stations = helpers.get_train_stations(nearby_places)\n",
    "get_train_stations"
   ]
  },
  {
   "cell_type": "code",
   "execution_count": 10,
   "metadata": {},
   "outputs": [
    {
     "name": "stdout",
     "output_type": "stream",
     "text": [
      "Waiting time is small enough. Average waiting time is 0.79 mins and threshold is 5 mins.\n",
      "There is no train station in a 1km radius.\n",
      "Therefore, it is not applicable here !\n"
     ]
    },
    {
     "data": {
      "text/plain": [
       "False"
      ]
     },
     "execution_count": 10,
     "metadata": {},
     "output_type": "execute_result"
    }
   ],
   "source": [
    "# A way to check if a certain point has more than enough public transport stations nearby\n",
    "# In that case, we can assume that the person lives in a big city and therefore doesn't need to take the car to get to the train station\n",
    "# The person's coordinates [longitude, latitude]\n",
    "coordinates = [6.561906, 46.518536]\n",
    "\n",
    "# Check availability\n",
    "helpers.is_applicable(coordinates, 5)"
   ]
  },
  {
   "cell_type": "code",
   "execution_count": 11,
   "metadata": {},
   "outputs": [
    {
     "data": {
      "text/plain": [
       "[]"
      ]
     },
     "execution_count": 11,
     "metadata": {},
     "output_type": "execute_result"
    }
   ],
   "source": [
    "# Get nearby places\n",
    "nearby_places = api.get_nearby_places(longitude=coordinates[0], latitude=coordinates[1], radius=1500, type=\"StopPlace\", limit=50, includeVehicleModes=True)\n",
    "get_train_stations = helpers.get_train_stations(nearby_places)\n",
    "get_train_stations"
   ]
  },
  {
   "cell_type": "code",
   "execution_count": 12,
   "metadata": {},
   "outputs": [
    {
     "data": {
      "text/plain": [
       "[4,\n",
       " 4,\n",
       " 8,\n",
       " 10,\n",
       " 1,\n",
       " 2,\n",
       " 1,\n",
       " 8,\n",
       " 1,\n",
       " 4,\n",
       " 12,\n",
       " 8,\n",
       " 11,\n",
       " 9,\n",
       " 10,\n",
       " 9,\n",
       " 1,\n",
       " 9,\n",
       " 4,\n",
       " 9,\n",
       " 8,\n",
       " 18,\n",
       " 4,\n",
       " 1,\n",
       " 10,\n",
       " 8,\n",
       " 4,\n",
       " 8,\n",
       " 10,\n",
       " 9,\n",
       " 4,\n",
       " 4,\n",
       " 4,\n",
       " 9,\n",
       " 10,\n",
       " 9,\n",
       " 10]"
      ]
     },
     "execution_count": 12,
     "metadata": {},
     "output_type": "execute_result"
    }
   ],
   "source": [
    "[len(api.get_place_from_id(place[\"id\"])[\"departures\"]) for place in nearby_places[\"places\"] if \"departures\" in api.get_place_from_id(place[\"id\"]).keys()]"
   ]
  }
 ],
 "metadata": {
  "kernelspec": {
   "display_name": "LH23",
   "language": "python",
   "name": "python3"
  },
  "language_info": {
   "codemirror_mode": {
    "name": "ipython",
    "version": 3
   },
   "file_extension": ".py",
   "mimetype": "text/x-python",
   "name": "python",
   "nbconvert_exporter": "python",
   "pygments_lexer": "ipython3",
   "version": "3.11.5"
  }
 },
 "nbformat": 4,
 "nbformat_minor": 2
}
