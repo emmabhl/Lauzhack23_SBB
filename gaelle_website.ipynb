{
 "cells": [
  {
   "cell_type": "code",
   "execution_count": 1,
   "metadata": {},
   "outputs": [],
   "source": [
    "import streamlit as st\n",
    "import datetime\n",
    "import helpers as hlp\n",
    "import api_requests as api\n",
    "import numpy as np"
   ]
  },
  {
   "cell_type": "code",
   "execution_count": 6,
   "metadata": {},
   "outputs": [],
   "source": [
    "api.use_token()"
   ]
  },
  {
   "cell_type": "code",
   "execution_count": 8,
   "metadata": {},
   "outputs": [
    {
     "data": {
      "text/html": [
       "<div>\n",
       "<style scoped>\n",
       "    .dataframe tbody tr th:only-of-type {\n",
       "        vertical-align: middle;\n",
       "    }\n",
       "\n",
       "    .dataframe tbody tr th {\n",
       "        vertical-align: top;\n",
       "    }\n",
       "\n",
       "    .dataframe thead tr th {\n",
       "        text-align: left;\n",
       "    }\n",
       "</style>\n",
       "<table border=\"1\" class=\"dataframe\">\n",
       "  <thead>\n",
       "    <tr>\n",
       "      <th></th>\n",
       "      <th>Journey_nbr</th>\n",
       "      <th>Departure</th>\n",
       "      <th>Arrival</th>\n",
       "      <th>Time_departure</th>\n",
       "      <th>Time_arrival</th>\n",
       "      <th>Journey_duration</th>\n",
       "      <th>Transport_mode</th>\n",
       "      <th>Tot_nbr_stages</th>\n",
       "      <th>Tot_price</th>\n",
       "    </tr>\n",
       "  </thead>\n",
       "  <tbody>\n",
       "    <tr>\n",
       "      <th>0</th>\n",
       "      <td>1</td>\n",
       "      <td>A</td>\n",
       "      <td>B</td>\n",
       "      <td>9:00</td>\n",
       "      <td>9:30</td>\n",
       "      <td>30</td>\n",
       "      <td>Train</td>\n",
       "      <td>3</td>\n",
       "      <td>10</td>\n",
       "    </tr>\n",
       "    <tr>\n",
       "      <th>1</th>\n",
       "      <td>1</td>\n",
       "      <td>B</td>\n",
       "      <td>C</td>\n",
       "      <td>10:00</td>\n",
       "      <td>10:20</td>\n",
       "      <td>20</td>\n",
       "      <td>Bus</td>\n",
       "      <td>3</td>\n",
       "      <td>10</td>\n",
       "    </tr>\n",
       "    <tr>\n",
       "      <th>2</th>\n",
       "      <td>2</td>\n",
       "      <td>C</td>\n",
       "      <td>D</td>\n",
       "      <td>11:00</td>\n",
       "      <td>11:10</td>\n",
       "      <td>10</td>\n",
       "      <td>Foot</td>\n",
       "      <td>3</td>\n",
       "      <td>10</td>\n",
       "    </tr>\n",
       "  </tbody>\n",
       "</table>\n",
       "</div>"
      ],
      "text/plain": [
       "  Journey_nbr Departure Arrival Time_departure Time_arrival Journey_duration  \\\n",
       "0           1         A       B           9:00         9:30               30   \n",
       "1           1         B       C          10:00        10:20               20   \n",
       "2           2         C       D          11:00        11:10               10   \n",
       "\n",
       "  Transport_mode Tot_nbr_stages Tot_price  \n",
       "0          Train              3        10  \n",
       "1            Bus              3        10  \n",
       "2           Foot              3        10  "
      ]
     },
     "execution_count": 8,
     "metadata": {},
     "output_type": "execute_result"
    }
   ],
   "source": [
    "import pandas as pd\n",
    "import numpy as np\n",
    "result = pd.DataFrame(columns = [['Journey_nbr', 'Departure', 'Arrival', 'Time_departure', 'Time_arrival', 'Journey_duration','Transport_mode', 'Tot_nbr_stages', 'Tot_price' ]])\n",
    "result['Journey_nbr']= [1,1,2]\n",
    "result['Departure']=['A','B','C']\n",
    "result['Arrival']=['B','C', 'D']\n",
    "result['Time_departure']=['9:00', '10:00','11:00']\n",
    "result['Time_arrival']=['9:30', '10:20','11:10']\n",
    "result['Journey_duration']=[30,20,10]\n",
    "result['Transport_mode']=['Train', 'Bus', 'Foot']\n",
    "result['Tot_nbr_stages']=[3,3,3]\n",
    "result['Tot_price']=[10,10,10]\n",
    "result"
   ]
  },
  {
   "cell_type": "code",
   "execution_count": 25,
   "metadata": {},
   "outputs": [
    {
     "data": {
      "text/plain": [
       "Departure    A\n",
       "Name: 0, dtype: object"
      ]
     },
     "execution_count": 25,
     "metadata": {},
     "output_type": "execute_result"
    }
   ],
   "source": [
    "test = result.iloc[np.where(result['Departure'] == 'A')[0]]\n",
    "test['Departure'].loc[0]"
   ]
  },
  {
   "cell_type": "code",
   "execution_count": 48,
   "metadata": {},
   "outputs": [
    {
     "data": {
      "text/plain": [
       "'Train'"
      ]
     },
     "execution_count": 48,
     "metadata": {},
     "output_type": "execute_result"
    }
   ],
   "source": [
    "result['Transport_mode'].loc[0].values[0]"
   ]
  },
  {
   "cell_type": "code",
   "execution_count": 51,
   "metadata": {},
   "outputs": [
    {
     "data": {
      "text/plain": [
       "\"['Train', 'Bus', 'Foot']\""
      ]
     },
     "execution_count": 51,
     "metadata": {},
     "output_type": "execute_result"
    }
   ],
   "source": [
    "result['Transport_mode'].values.tolist()\n",
    "\n",
    "list_=[]\n",
    "for i in range (len(result['Transport_mode'])):\n",
    "    list_.append(result['Transport_mode'].loc[i].values[0])\n",
    "str(list_)"
   ]
  },
  {
   "cell_type": "code",
   "execution_count": 34,
   "metadata": {},
   "outputs": [
    {
     "data": {
      "text/html": [
       "<div>\n",
       "<style scoped>\n",
       "    .dataframe tbody tr th:only-of-type {\n",
       "        vertical-align: middle;\n",
       "    }\n",
       "\n",
       "    .dataframe tbody tr th {\n",
       "        vertical-align: top;\n",
       "    }\n",
       "\n",
       "    .dataframe thead tr th {\n",
       "        text-align: left;\n",
       "    }\n",
       "</style>\n",
       "<table border=\"1\" class=\"dataframe\">\n",
       "  <thead>\n",
       "    <tr>\n",
       "      <th></th>\n",
       "      <th>Journey_nbr</th>\n",
       "      <th>Departure</th>\n",
       "      <th>Arrival</th>\n",
       "      <th>Time_departure</th>\n",
       "      <th>Time_arrival</th>\n",
       "      <th>Journey_duration</th>\n",
       "      <th>Transport_mode</th>\n",
       "      <th>Tot_nbr_stages</th>\n",
       "      <th>Tot_price</th>\n",
       "    </tr>\n",
       "  </thead>\n",
       "  <tbody>\n",
       "    <tr>\n",
       "      <th>0</th>\n",
       "      <td>1</td>\n",
       "      <td>A</td>\n",
       "      <td>B</td>\n",
       "      <td>9:00</td>\n",
       "      <td>9:30</td>\n",
       "      <td>30</td>\n",
       "      <td>Train</td>\n",
       "      <td>3</td>\n",
       "      <td>10</td>\n",
       "    </tr>\n",
       "    <tr>\n",
       "      <th>1</th>\n",
       "      <td>1</td>\n",
       "      <td>B</td>\n",
       "      <td>C</td>\n",
       "      <td>10:00</td>\n",
       "      <td>10:20</td>\n",
       "      <td>20</td>\n",
       "      <td>Bus</td>\n",
       "      <td>3</td>\n",
       "      <td>10</td>\n",
       "    </tr>\n",
       "  </tbody>\n",
       "</table>\n",
       "</div>"
      ],
      "text/plain": [
       "  Journey_nbr Departure Arrival Time_departure Time_arrival Journey_duration  \\\n",
       "0           1         A       B           9:00         9:30               30   \n",
       "1           1         B       C          10:00        10:20               20   \n",
       "\n",
       "  Transport_mode Tot_nbr_stages Tot_price  \n",
       "0          Train              3        10  \n",
       "1            Bus              3        10  "
      ]
     },
     "metadata": {},
     "output_type": "display_data"
    },
    {
     "name": "stdout",
     "output_type": "stream",
     "text": [
      "0\n"
     ]
    },
    {
     "data": {
      "text/plain": [
       "'Train'"
      ]
     },
     "metadata": {},
     "output_type": "display_data"
    },
    {
     "name": "stdout",
     "output_type": "stream",
     "text": [
      "1\n"
     ]
    },
    {
     "data": {
      "text/plain": [
       "'Bus'"
      ]
     },
     "metadata": {},
     "output_type": "display_data"
    },
    {
     "name": "stdout",
     "output_type": "stream",
     "text": [
      "FromA to C,   0 hours,   transports: ['Train', 'Bus'],  3 stages.   Price:10 CHF\n"
     ]
    },
    {
     "data": {
      "text/html": [
       "<div>\n",
       "<style scoped>\n",
       "    .dataframe tbody tr th:only-of-type {\n",
       "        vertical-align: middle;\n",
       "    }\n",
       "\n",
       "    .dataframe tbody tr th {\n",
       "        vertical-align: top;\n",
       "    }\n",
       "\n",
       "    .dataframe thead tr th {\n",
       "        text-align: left;\n",
       "    }\n",
       "</style>\n",
       "<table border=\"1\" class=\"dataframe\">\n",
       "  <thead>\n",
       "    <tr>\n",
       "      <th></th>\n",
       "      <th>Journey_nbr</th>\n",
       "      <th>Departure</th>\n",
       "      <th>Arrival</th>\n",
       "      <th>Time_departure</th>\n",
       "      <th>Time_arrival</th>\n",
       "      <th>Journey_duration</th>\n",
       "      <th>Transport_mode</th>\n",
       "      <th>Tot_nbr_stages</th>\n",
       "      <th>Tot_price</th>\n",
       "    </tr>\n",
       "  </thead>\n",
       "  <tbody>\n",
       "    <tr>\n",
       "      <th>2</th>\n",
       "      <td>2</td>\n",
       "      <td>C</td>\n",
       "      <td>D</td>\n",
       "      <td>11:00</td>\n",
       "      <td>11:10</td>\n",
       "      <td>10</td>\n",
       "      <td>Foot</td>\n",
       "      <td>3</td>\n",
       "      <td>10</td>\n",
       "    </tr>\n",
       "  </tbody>\n",
       "</table>\n",
       "</div>"
      ],
      "text/plain": [
       "  Journey_nbr Departure Arrival Time_departure Time_arrival Journey_duration  \\\n",
       "2           2         C       D          11:00        11:10               10   \n",
       "\n",
       "  Transport_mode Tot_nbr_stages Tot_price  \n",
       "2           Foot              3        10  "
      ]
     },
     "metadata": {},
     "output_type": "display_data"
    },
    {
     "name": "stdout",
     "output_type": "stream",
     "text": [
      "0\n"
     ]
    },
    {
     "data": {
      "text/plain": [
       "'Foot'"
      ]
     },
     "metadata": {},
     "output_type": "display_data"
    },
    {
     "name": "stdout",
     "output_type": "stream",
     "text": [
      "FromC to D,   0 hours,   transports: ['Foot'],  3 stages.   Price:10 CHF\n"
     ]
    }
   ],
   "source": [
    "nbr_journey_tot = np.max(result['Journey_nbr'])\n",
    "for n in  range (nbr_journey_tot):\n",
    "    trips = result.iloc[np.where(result['Journey_nbr'] == (n+1))[0]]\n",
    "\n",
    "    display(trips)\n",
    "    m = len(trips['Journey_nbr'])\n",
    "    departure_time_journey=trips.iloc[0]['Time_departure']\n",
    "    arrival_time_journey=trips.iloc[m-1]['Time_arrival']\n",
    "    departure_spot= trips.iloc[0]['Departure']\n",
    "    arrival_spot=trips.iloc[m-1]['Arrival']\n",
    "    #duration=arrival_time_journey-departure_time_journey\n",
    "    duration = 0\n",
    "\n",
    "    list_transport=[]\n",
    "    for i in range (len(trips['Transport_mode'])):\n",
    "        print(i)\n",
    "        list_transport.append(trips['Transport_mode'].iloc[i].values[0])\n",
    "        display(trips['Transport_mode'].iloc[i].values[0])\n",
    "    button_name ='From' + departure_spot +' to ' + arrival_spot + ',   ' + str(duration) +' hours,   transports: '+ str(list_transport) + ',  ' + str(trips.iloc[0]['Tot_nbr_stages']) + ' stages.   Price:' + str(trips.iloc[0]['Tot_price'])+' CHF' \n",
    "    #button_name = 'Departure: ' + departure_spot +' ------ Arrival: ' + arrival_spot + ', ' + str(duration) +' hours, transports: '+ str(list_transport) + ', Stages number :' + str(trips.iloc[0]['Tot_nbr_stages']) + ', Price:' + str(trips.iloc[0]['Tot_price'])\n",
    "    #button_name =str(list_transport) + ', Stages number :' + str(trips.iloc[0]['Tot_nbr_stages']) + ', Price:' + str(trips.iloc[0]['Tot_price'])\n",
    "    print(button_name)\n"
   ]
  },
  {
   "cell_type": "code",
   "execution_count": 38,
   "metadata": {},
   "outputs": [
    {
     "data": {
      "text/plain": [
       "['Train', 'Bus']"
      ]
     },
     "execution_count": 38,
     "metadata": {},
     "output_type": "execute_result"
    }
   ],
   "source": [
    "#display the result\n",
    "nbr_journey_tot = np.max(result['Journey_nbr'])\n",
    "all_trips=[]\n",
    "button_names=[]\n",
    "all_transport=[]\n",
    "for n in  range (nbr_journey_tot):\n",
    "    trips = result.iloc[np.where(result['Journey_nbr'] == (n+1))[0]]\n",
    "    all_trips.append(trips)\n",
    "\n",
    "    m = len(trips['Journey_nbr'])\n",
    "    departure_time_journey=trips.iloc[0]['Time_departure']\n",
    "    arrival_time_journey=trips.iloc[m-1]['Time_arrival']\n",
    "    departure_spot= trips.iloc[0]['Departure']\n",
    "    arrival_spot=trips.iloc[m-1]['Arrival']\n",
    "    #duration=arrival_time_journey-departure_time_journey\n",
    "    duration = 0\n",
    "\n",
    "    list_transport=[]\n",
    "    for i in range (len(trips['Transport_mode'])):\n",
    "        list_transport.append(trips['Transport_mode'].iloc[i].values[0])\n",
    "    all_transport.append(list_transport)\n",
    "    button_name ='From' + departure_spot +' to ' + arrival_spot + ',   ' + str(duration) +' hours,   transports: '+ str(list_transport) + ',  ' + str(trips.iloc[0]['Tot_nbr_stages']) + ' stages.   Price:' + str(trips.iloc[0]['Tot_price'])+' CHF' \n",
    "    button_names.append(button_name)\n",
    "\n",
    "all_transport[0]\n",
    "\n"
   ]
  },
  {
   "cell_type": "code",
   "execution_count": null,
   "metadata": {},
   "outputs": [],
   "source": [
    "map=None\n",
    "    for n, value in enumerate (button_names):\n",
    "        if st.button(value):\n",
    "            st.dataframe((all_trips[n][[ 'Departure', 'Arrival', 'Time_departure', 'Time_arrival', 'Journey_duration','Transport_mode']]).reset_index(drop=True), width=1500)\n",
    "            #Add map\n",
    "            if ('CAR' in all_transport[n]): \n",
    "                map=st.checkbox('Display map',map)\n",
    "                if(map==True):st.write('Which transport type would you like to use?')\n",
    "    #Appelle la fonction qui créé l'image generate_img(departure_coord, arrival_coord)\n"
   ]
  },
  {
   "cell_type": "code",
   "execution_count": 43,
   "metadata": {},
   "outputs": [],
   "source": [
    "liste_test = all_transport[0]\n",
    "if 'Train' in liste_test: print('True')"
   ]
  },
  {
   "cell_type": "code",
   "execution_count": 22,
   "metadata": {},
   "outputs": [
    {
     "data": {
      "text/plain": [
       "[6.629095, 46.516777]"
      ]
     },
     "execution_count": 22,
     "metadata": {},
     "output_type": "execute_result"
    }
   ],
   "source": [
    "stations_df = hlp.get_stations('Lausanne')\n",
    "stations_df[stations_df['name']=='Lausanne']['centroid'][0]"
   ]
  },
  {
   "cell_type": "code",
   "execution_count": 24,
   "metadata": {},
   "outputs": [
    {
     "data": {
      "text/plain": [
       "str"
      ]
     },
     "execution_count": 24,
     "metadata": {},
     "output_type": "execute_result"
    }
   ],
   "source": [
    "type('Lausanne')"
   ]
  },
  {
   "cell_type": "code",
   "execution_count": 23,
   "metadata": {},
   "outputs": [
    {
     "data": {
      "text/html": [
       "<div>\n",
       "<style scoped>\n",
       "    .dataframe tbody tr th:only-of-type {\n",
       "        vertical-align: middle;\n",
       "    }\n",
       "\n",
       "    .dataframe tbody tr th {\n",
       "        vertical-align: top;\n",
       "    }\n",
       "\n",
       "    .dataframe thead th {\n",
       "        text-align: right;\n",
       "    }\n",
       "</style>\n",
       "<table border=\"1\" class=\"dataframe\">\n",
       "  <thead>\n",
       "    <tr style=\"text-align: right;\">\n",
       "      <th></th>\n",
       "      <th>id</th>\n",
       "      <th>name</th>\n",
       "      <th>type</th>\n",
       "      <th>canton</th>\n",
       "      <th>centroid</th>\n",
       "    </tr>\n",
       "  </thead>\n",
       "  <tbody>\n",
       "    <tr>\n",
       "      <th>0</th>\n",
       "      <td>8501120</td>\n",
       "      <td>Lausanne</td>\n",
       "      <td>StopPlace</td>\n",
       "      <td>VD</td>\n",
       "      <td>[6.629095, 46.516777]</td>\n",
       "    </tr>\n",
       "    <tr>\n",
       "      <th>1</th>\n",
       "      <td>8589523</td>\n",
       "      <td>Lausanne, Bessières</td>\n",
       "      <td>StopPlace</td>\n",
       "      <td>VD</td>\n",
       "      <td>[6.637078, 46.520714]</td>\n",
       "    </tr>\n",
       "    <tr>\n",
       "      <th>2</th>\n",
       "      <td>8592028</td>\n",
       "      <td>Lausanne, Délices</td>\n",
       "      <td>StopPlace</td>\n",
       "      <td>VD</td>\n",
       "      <td>[6.628043, 46.512022]</td>\n",
       "    </tr>\n",
       "    <tr>\n",
       "      <th>3</th>\n",
       "      <td>8592050</td>\n",
       "      <td>Lausanne, gare</td>\n",
       "      <td>StopPlace</td>\n",
       "      <td>VD</td>\n",
       "      <td>[6.629652, 46.517604]</td>\n",
       "    </tr>\n",
       "    <tr>\n",
       "      <th>4</th>\n",
       "      <td>8592061</td>\n",
       "      <td>Lausanne, Jordils</td>\n",
       "      <td>StopPlace</td>\n",
       "      <td>VD</td>\n",
       "      <td>[6.627432, 46.509927]</td>\n",
       "    </tr>\n",
       "    <tr>\n",
       "      <th>5</th>\n",
       "      <td>8592086</td>\n",
       "      <td>Lausanne, Ouchy-Olympique</td>\n",
       "      <td>StopPlace</td>\n",
       "      <td>VD</td>\n",
       "      <td>[6.626641, 46.507473]</td>\n",
       "    </tr>\n",
       "    <tr>\n",
       "      <th>6</th>\n",
       "      <td>8579237</td>\n",
       "      <td>Lausanne, Ours</td>\n",
       "      <td>StopPlace</td>\n",
       "      <td>VD</td>\n",
       "      <td>[6.640673, 46.521245]</td>\n",
       "    </tr>\n",
       "    <tr>\n",
       "      <th>7</th>\n",
       "      <td>8590442</td>\n",
       "      <td>Lausanne, Riponne-M. Béjart</td>\n",
       "      <td>StopPlace</td>\n",
       "      <td>VD</td>\n",
       "      <td>[6.632026, 46.523069]</td>\n",
       "    </tr>\n",
       "    <tr>\n",
       "      <th>8</th>\n",
       "      <td>8579238</td>\n",
       "      <td>Lausanne, Sallaz</td>\n",
       "      <td>StopPlace</td>\n",
       "      <td>VD</td>\n",
       "      <td>[6.646193, 46.532814]</td>\n",
       "    </tr>\n",
       "    <tr>\n",
       "      <th>9</th>\n",
       "      <td>8591818</td>\n",
       "      <td>Lausanne-Flon, pl. de l'Europe</td>\n",
       "      <td>StopPlace</td>\n",
       "      <td>VD</td>\n",
       "      <td>[6.63047, 46.520328]</td>\n",
       "    </tr>\n",
       "  </tbody>\n",
       "</table>\n",
       "</div>"
      ],
      "text/plain": [
       "        id                            name       type canton  \\\n",
       "0  8501120                        Lausanne  StopPlace     VD   \n",
       "1  8589523             Lausanne, Bessières  StopPlace     VD   \n",
       "2  8592028               Lausanne, Délices  StopPlace     VD   \n",
       "3  8592050                  Lausanne, gare  StopPlace     VD   \n",
       "4  8592061               Lausanne, Jordils  StopPlace     VD   \n",
       "5  8592086       Lausanne, Ouchy-Olympique  StopPlace     VD   \n",
       "6  8579237                  Lausanne, Ours  StopPlace     VD   \n",
       "7  8590442     Lausanne, Riponne-M. Béjart  StopPlace     VD   \n",
       "8  8579238                Lausanne, Sallaz  StopPlace     VD   \n",
       "9  8591818  Lausanne-Flon, pl. de l'Europe  StopPlace     VD   \n",
       "\n",
       "                centroid  \n",
       "0  [6.629095, 46.516777]  \n",
       "1  [6.637078, 46.520714]  \n",
       "2  [6.628043, 46.512022]  \n",
       "3  [6.629652, 46.517604]  \n",
       "4  [6.627432, 46.509927]  \n",
       "5  [6.626641, 46.507473]  \n",
       "6  [6.640673, 46.521245]  \n",
       "7  [6.632026, 46.523069]  \n",
       "8  [6.646193, 46.532814]  \n",
       "9   [6.63047, 46.520328]  "
      ]
     },
     "execution_count": 23,
     "metadata": {},
     "output_type": "execute_result"
    }
   ],
   "source": [
    "stations_df"
   ]
  },
  {
   "cell_type": "code",
   "execution_count": 2,
   "metadata": {},
   "outputs": [
    {
     "name": "stderr",
     "output_type": "stream",
     "text": [
      "2023-12-03 07:46:13.836 \n",
      "  \u001b[33m\u001b[1mWarning:\u001b[0m to view this Streamlit app on a browser, run it with the following\n",
      "  command:\n",
      "\n",
      "    streamlit run c:\\Users\\gaell\\anaconda3\\envs\\hackathon\\lib\\site-packages\\ipykernel_launcher.py [ARGUMENTS]\n"
     ]
    }
   ],
   "source": [
    "\"Session Test\", st.session_state\n",
    "#st.write (st.session_state)\n",
    "transport_option = ['train', 'bus', 'foot', 'car', 'bike']\n",
    "\n",
    "transport = st.radio(\n",
    "    \"Which transport type would you like to use?\",\n",
    "    [\"Car\", \"Train\", \"Foot\"])\n",
    "\n",
    "st.write('You selected '+transport)\n"
   ]
  },
  {
   "cell_type": "code",
   "execution_count": 5,
   "metadata": {},
   "outputs": [],
   "source": [
    "\"Session Test\", st.session_state\n",
    "transport = st.multiselect(\n",
    "    \"Which transport type would you like to use?\",\n",
    "    [\"Car\", \"Train\", \"Foot\"])"
   ]
  }
 ],
 "metadata": {
  "kernelspec": {
   "display_name": "hackathon",
   "language": "python",
   "name": "python3"
  },
  "language_info": {
   "codemirror_mode": {
    "name": "ipython",
    "version": 3
   },
   "file_extension": ".py",
   "mimetype": "text/x-python",
   "name": "python",
   "nbconvert_exporter": "python",
   "pygments_lexer": "ipython3",
   "version": "3.9.18"
  }
 },
 "nbformat": 4,
 "nbformat_minor": 2
}
