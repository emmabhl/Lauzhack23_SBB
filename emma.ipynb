{
 "cells": [
  {
   "cell_type": "code",
   "execution_count": 1,
   "metadata": {},
   "outputs": [],
   "source": [
    "import api_requests as api\n",
    "import helpers_sander as hlp\n",
    "from pyrosm.data import sources\n"
   ]
  },
  {
   "cell_type": "code",
   "execution_count": 2,
   "metadata": {},
   "outputs": [
    {
     "name": "stdout",
     "output_type": "stream",
     "text": [
      "['Basel', 'Bern', 'Lausanne']\n"
     ]
    }
   ],
   "source": [
    "cheflieu = [ \"Aarau\", \"Herisau\", \"Appenzell\", \"Liestal\", \"Basel\", \"Bern\", \"Fribourg\", \"Geneva\", \"Glarus\", \"Chur\", \"Delémont\", \"Lucerne\", \"Neuchâtel\", \"Stans\", \"Sarnen\", \"Schaffhausen\", \"Schwyz\", \"Solothurn\", \"St. Gallen\", \"Frauenfeld\", \"Bellinzona\", \"Altdorf\", \"Sion\", \"Lausanne\", \"Zug\", \"Zürich\"]\n",
    "cities_available = sources.cities.available\n",
    "# Check which chef lieu are not in the list of available cities\n",
    "cheflieu_available = [city for city in cheflieu if city in cities_available]\n",
    "print(cheflieu_available)"
   ]
  },
  {
   "cell_type": "code",
   "execution_count": 3,
   "metadata": {},
   "outputs": [
    {
     "data": {
      "text/plain": [
       "'/Users/emmaboehly/Documents/Master3/Lauzhack23/Lauzhack23_SBB'"
      ]
     },
     "execution_count": 3,
     "metadata": {},
     "output_type": "execute_result"
    }
   ],
   "source": [
    "import os\n",
    "# get current folder\n",
    "current_folder = os.getcwd()\n",
    "current_folder"
   ]
  },
  {
   "cell_type": "code",
   "execution_count": 4,
   "metadata": {},
   "outputs": [],
   "source": [
    "from pyrosm import OSM, get_data\n",
    "if not os.path.exists(\"switzerland-latest.osm.pbf\"):\n",
    "    switzerland = get_data(\"Switzerland\", directory=os.getcwd())\n",
    "switzerland = OSM(\"switzerland-latest.osm.pbf\", "
   ]
  },
  {
   "cell_type": "code",
   "execution_count": 5,
   "metadata": {},
   "outputs": [],
   "source": [
    "switzerland.get_boundaries(name=\"Lausanne\")"
   ]
  },
  {
   "cell_type": "code",
   "execution_count": 8,
   "metadata": {},
   "outputs": [],
   "source": []
  },
  {
   "cell_type": "markdown",
   "metadata": {},
   "source": [
    "# Get Stations"
   ]
  },
  {
   "cell_type": "code",
   "execution_count": 2,
   "metadata": {},
   "outputs": [],
   "source": [
    "# Test data\n",
    "params = {\"origin\": \"8503000\", \n",
    "          \"destination\": \"8507000\", \n",
    "          \"date\": \"2023-04-18\", \n",
    "          \"time\": \"13:07\"}\n",
    "station = \"Zurich\""
   ]
  },
  {
   "cell_type": "code",
   "execution_count": 3,
   "metadata": {},
   "outputs": [],
   "source": [
    "# Use the function use_token() to get a token\n",
    "api.use_token()"
   ]
  },
  {
   "cell_type": "code",
   "execution_count": 4,
   "metadata": {},
   "outputs": [],
   "source": [
    "stations = hlp.get_stations(station)"
   ]
  },
  {
   "cell_type": "code",
   "execution_count": 5,
   "metadata": {},
   "outputs": [
    {
     "data": {
      "text/html": [
       "<div>\n",
       "<style scoped>\n",
       "    .dataframe tbody tr th:only-of-type {\n",
       "        vertical-align: middle;\n",
       "    }\n",
       "\n",
       "    .dataframe tbody tr th {\n",
       "        vertical-align: top;\n",
       "    }\n",
       "\n",
       "    .dataframe thead th {\n",
       "        text-align: right;\n",
       "    }\n",
       "</style>\n",
       "<table border=\"1\" class=\"dataframe\">\n",
       "  <thead>\n",
       "    <tr style=\"text-align: right;\">\n",
       "      <th></th>\n",
       "      <th>id</th>\n",
       "      <th>name</th>\n",
       "      <th>type</th>\n",
       "      <th>canton</th>\n",
       "      <th>centroid</th>\n",
       "    </tr>\n",
       "  </thead>\n",
       "  <tbody>\n",
       "    <tr>\n",
       "      <th>0</th>\n",
       "      <td>8503000</td>\n",
       "      <td>Zürich HB</td>\n",
       "      <td>StopPlace</td>\n",
       "      <td>ZH</td>\n",
       "      <td>[8.540193, 47.378177]</td>\n",
       "    </tr>\n",
       "    <tr>\n",
       "      <th>1</th>\n",
       "      <td>8503016</td>\n",
       "      <td>Zürich Flughafen</td>\n",
       "      <td>StopPlace</td>\n",
       "      <td>ZH</td>\n",
       "      <td>[8.562387, 47.450379]</td>\n",
       "    </tr>\n",
       "    <tr>\n",
       "      <th>2</th>\n",
       "      <td>A=4@O=Zurich, Osteria Centrale, Nordstrasse@X=...</td>\n",
       "      <td>Zurich, Osteria Centrale, Nordstrasse</td>\n",
       "      <td>PointOfInterest</td>\n",
       "      <td>ZH</td>\n",
       "      <td>[8.530484, 47.392794]</td>\n",
       "    </tr>\n",
       "    <tr>\n",
       "      <th>3</th>\n",
       "      <td>A=4@O=Zurich, Rosso, Geroldstrasse@X=8518322@Y...</td>\n",
       "      <td>Zurich, Rosso, Geroldstrasse</td>\n",
       "      <td>PointOfInterest</td>\n",
       "      <td>ZH</td>\n",
       "      <td>[8.518322, 47.385396]</td>\n",
       "    </tr>\n",
       "    <tr>\n",
       "      <th>4</th>\n",
       "      <td>A=4@O=Zumikon, Inter-Community School of Zuric...</td>\n",
       "      <td>Zumikon, Inter-Community School of Zurich, Str...</td>\n",
       "      <td>PointOfInterest</td>\n",
       "      <td>ZH</td>\n",
       "      <td>[8.622813, 47.338184]</td>\n",
       "    </tr>\n",
       "    <tr>\n",
       "      <th>5</th>\n",
       "      <td>A=4@O=Zürich, Blonde Zurich, Schaffhauserstras...</td>\n",
       "      <td>Zürich, Blonde Zurich, Schaffhauserstrasse</td>\n",
       "      <td>PointOfInterest</td>\n",
       "      <td>ZH</td>\n",
       "      <td>[8.538853, 47.389791]</td>\n",
       "    </tr>\n",
       "    <tr>\n",
       "      <th>6</th>\n",
       "      <td>A=4@O=Zürich, collab zurich, Langstrasse@X=852...</td>\n",
       "      <td>Zürich, collab zurich, Langstrasse</td>\n",
       "      <td>PointOfInterest</td>\n",
       "      <td>ZH</td>\n",
       "      <td>[8.526224, 47.37691]</td>\n",
       "    </tr>\n",
       "    <tr>\n",
       "      <th>7</th>\n",
       "      <td>A=4@O=Zürich, Cycle Store Zurich, Werdmühlepla...</td>\n",
       "      <td>Zürich, Cycle Store Zurich, Werdmühleplatz</td>\n",
       "      <td>PointOfInterest</td>\n",
       "      <td>ZH</td>\n",
       "      <td>[8.540184, 47.374941]</td>\n",
       "    </tr>\n",
       "    <tr>\n",
       "      <th>8</th>\n",
       "      <td>A=4@O=Zürich, Delicias latinas Zurich, Badener...</td>\n",
       "      <td>Zürich, Delicias latinas Zurich, Badenerstrasse</td>\n",
       "      <td>PointOfInterest</td>\n",
       "      <td>ZH</td>\n",
       "      <td>[8.515392, 47.376191]</td>\n",
       "    </tr>\n",
       "    <tr>\n",
       "      <th>9</th>\n",
       "      <td>A=4@O=Zürich, ibis Styles Zurich City Center, ...</td>\n",
       "      <td>Zürich, ibis Styles Zurich City Center, Stampf...</td>\n",
       "      <td>PointOfInterest</td>\n",
       "      <td>ZH</td>\n",
       "      <td>[8.542629, 47.381234]</td>\n",
       "    </tr>\n",
       "  </tbody>\n",
       "</table>\n",
       "</div>"
      ],
      "text/plain": [
       "                                                  id  \\\n",
       "0                                            8503000   \n",
       "1                                            8503016   \n",
       "2  A=4@O=Zurich, Osteria Centrale, Nordstrasse@X=...   \n",
       "3  A=4@O=Zurich, Rosso, Geroldstrasse@X=8518322@Y...   \n",
       "4  A=4@O=Zumikon, Inter-Community School of Zuric...   \n",
       "5  A=4@O=Zürich, Blonde Zurich, Schaffhauserstras...   \n",
       "6  A=4@O=Zürich, collab zurich, Langstrasse@X=852...   \n",
       "7  A=4@O=Zürich, Cycle Store Zurich, Werdmühlepla...   \n",
       "8  A=4@O=Zürich, Delicias latinas Zurich, Badener...   \n",
       "9  A=4@O=Zürich, ibis Styles Zurich City Center, ...   \n",
       "\n",
       "                                                name             type canton  \\\n",
       "0                                          Zürich HB        StopPlace     ZH   \n",
       "1                                   Zürich Flughafen        StopPlace     ZH   \n",
       "2              Zurich, Osteria Centrale, Nordstrasse  PointOfInterest     ZH   \n",
       "3                       Zurich, Rosso, Geroldstrasse  PointOfInterest     ZH   \n",
       "4  Zumikon, Inter-Community School of Zurich, Str...  PointOfInterest     ZH   \n",
       "5         Zürich, Blonde Zurich, Schaffhauserstrasse  PointOfInterest     ZH   \n",
       "6                 Zürich, collab zurich, Langstrasse  PointOfInterest     ZH   \n",
       "7         Zürich, Cycle Store Zurich, Werdmühleplatz  PointOfInterest     ZH   \n",
       "8    Zürich, Delicias latinas Zurich, Badenerstrasse  PointOfInterest     ZH   \n",
       "9  Zürich, ibis Styles Zurich City Center, Stampf...  PointOfInterest     ZH   \n",
       "\n",
       "                centroid  \n",
       "0  [8.540193, 47.378177]  \n",
       "1  [8.562387, 47.450379]  \n",
       "2  [8.530484, 47.392794]  \n",
       "3  [8.518322, 47.385396]  \n",
       "4  [8.622813, 47.338184]  \n",
       "5  [8.538853, 47.389791]  \n",
       "6   [8.526224, 47.37691]  \n",
       "7  [8.540184, 47.374941]  \n",
       "8  [8.515392, 47.376191]  \n",
       "9  [8.542629, 47.381234]  "
      ]
     },
     "execution_count": 5,
     "metadata": {},
     "output_type": "execute_result"
    }
   ],
   "source": [
    "stations"
   ]
  },
  {
   "cell_type": "markdown",
   "metadata": {},
   "source": [
    "# Departure time"
   ]
  },
  {
   "cell_type": "code",
   "execution_count": 4,
   "metadata": {},
   "outputs": [],
   "source": [
    "trips = api.get_journey(origin=params['origin'], destination=params['destination'], date=params['date'], time=params['time'])"
   ]
  },
  {
   "cell_type": "code",
   "execution_count": 6,
   "metadata": {},
   "outputs": [
    {
     "data": {
      "text/plain": [
       "[datetime.datetime(2023, 4, 18, 13, 8),\n",
       " datetime.datetime(2023, 4, 18, 13, 32),\n",
       " datetime.datetime(2023, 4, 18, 13, 38),\n",
       " datetime.datetime(2023, 4, 18, 13, 53),\n",
       " datetime.datetime(2023, 4, 18, 14, 2)]"
      ]
     },
     "execution_count": 6,
     "metadata": {},
     "output_type": "execute_result"
    }
   ],
   "source": [
    "# Check the departure time of each trip\n",
    "hlp.get_departures_times(trips['trips'])"
   ]
  },
  {
   "cell_type": "code",
   "execution_count": 7,
   "metadata": {},
   "outputs": [
    {
     "ename": "AttributeError",
     "evalue": "module 'api_requests' has no attribute 'get_place'",
     "output_type": "error",
     "traceback": [
      "\u001b[0;31m---------------------------------------------------------------------------\u001b[0m",
      "\u001b[0;31mAttributeError\u001b[0m                            Traceback (most recent call last)",
      "\u001b[1;32m/Users/emmaboehly/Documents/Master3/Lauzhack23/Lauzhack23_SBB/emma.ipynb Cellule 6\u001b[0m line \u001b[0;36m3\n\u001b[1;32m      <a href='vscode-notebook-cell:/Users/emmaboehly/Documents/Master3/Lauzhack23/Lauzhack23_SBB/emma.ipynb#X12sZmlsZQ%3D%3D?line=0'>1</a>\u001b[0m \u001b[39m# Get the place coordinates\u001b[39;00m\n\u001b[1;32m      <a href='vscode-notebook-cell:/Users/emmaboehly/Documents/Master3/Lauzhack23/Lauzhack23_SBB/emma.ipynb#X12sZmlsZQ%3D%3D?line=1'>2</a>\u001b[0m station \u001b[39m=\u001b[39m \u001b[39m'\u001b[39m\u001b[39mLausanne\u001b[39m\u001b[39m'\u001b[39m\n\u001b[0;32m----> <a href='vscode-notebook-cell:/Users/emmaboehly/Documents/Master3/Lauzhack23/Lauzhack23_SBB/emma.ipynb#X12sZmlsZQ%3D%3D?line=2'>3</a>\u001b[0m origin \u001b[39m=\u001b[39m api\u001b[39m.\u001b[39;49mget_place(station)\n",
      "\u001b[0;31mAttributeError\u001b[0m: module 'api_requests' has no attribute 'get_place'"
     ]
    }
   ],
   "source": []
  },
  {
   "cell_type": "code",
   "execution_count": null,
   "metadata": {},
   "outputs": [],
   "source": []
  }
 ],
 "metadata": {
  "kernelspec": {
   "display_name": "LH23",
   "language": "python",
   "name": "python3"
  },
  "language_info": {
   "codemirror_mode": {
    "name": "ipython",
    "version": 3
   },
   "file_extension": ".py",
   "mimetype": "text/x-python",
   "name": "python",
   "nbconvert_exporter": "python",
   "pygments_lexer": "ipython3",
   "version": "3.12.0"
  }
 },
 "nbformat": 4,
 "nbformat_minor": 2
}
