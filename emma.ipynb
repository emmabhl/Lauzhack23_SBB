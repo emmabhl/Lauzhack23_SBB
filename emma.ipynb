{
 "cells": [
  {
   "cell_type": "code",
   "execution_count": 3,
   "metadata": {},
   "outputs": [],
   "source": [
    "import api_requests as api\n",
    "import helpers_sander as hlp"
   ]
  },
  {
   "cell_type": "code",
   "execution_count": 8,
   "metadata": {},
   "outputs": [],
   "source": [
    "# Test data\n",
    "params = {\"origin\": \"8503000\", \n",
    "          \"destination\": \"8507000\", \n",
    "          \"date\": \"2023-04-18\", \n",
    "          \"time\": \"13:07\"}\n",
    "station = \"Lausanne CFF\""
   ]
  },
  {
   "cell_type": "code",
   "execution_count": 9,
   "metadata": {},
   "outputs": [],
   "source": [
    "# Use the function use_token() to get a token\n",
    "api.use_token()"
   ]
  },
  {
   "cell_type": "code",
   "execution_count": 10,
   "metadata": {},
   "outputs": [],
   "source": [
    "# Get the place coordinates\n",
    "origin = api.get_station(station)"
   ]
  },
  {
   "cell_type": "code",
   "execution_count": 11,
   "metadata": {},
   "outputs": [
    {
     "data": {
      "text/plain": [
       "{'places': [{'type': 'PointOfInterest',\n",
       "   'id': 'A=4@O=Lausanne, PubliBike Lausanne Gare CFF Nord, Avenue de la Gare@X=6630497@Y=46517298@U=104@L=980145513@B=1@p=1701082821@',\n",
       "   'name': 'Lausanne, PubliBike Lausanne Gare CFF Nord, Avenue de la Gare',\n",
       "   'canton': 'VD',\n",
       "   'centroid': {'type': 'Point', 'coordinates': [6.630497, 46.517298]},\n",
       "   'categories': [{'type': 'mobility',\n",
       "     'subtype': 'bike_sharing',\n",
       "     'name': 'Bike sharing'},\n",
       "    {'type': 'mobility', 'name': 'Mobility'}]},\n",
       "  {'type': 'PointOfInterest',\n",
       "   'id': 'A=4@O=Lausanne, PubliBike Lausanne Gare CFF Sud, Passage des Saugettes@X=6630461@Y=46515860@U=104@L=980147267@B=1@p=1701082821@',\n",
       "   'name': 'Lausanne, PubliBike Lausanne Gare CFF Sud, Passage des Saugettes',\n",
       "   'canton': 'VD',\n",
       "   'centroid': {'type': 'Point', 'coordinates': [6.630461, 46.51586]},\n",
       "   'categories': [{'type': 'mobility',\n",
       "     'subtype': 'bike_sharing',\n",
       "     'name': 'Bike sharing'},\n",
       "    {'type': 'mobility', 'name': 'Mobility'}]},\n",
       "  {'type': 'StopPlace',\n",
       "   'id': '8589523',\n",
       "   'name': 'Lausanne, Bessières',\n",
       "   'canton': 'VD',\n",
       "   'centroid': {'type': 'Point', 'coordinates': [6.637078, 46.520714]},\n",
       "   'tariffBorder': False,\n",
       "   'weighting': 17569,\n",
       "   'vehicleModes': [],\n",
       "   'links': {'detail': '/v3/stop-places/8589523'}},\n",
       "  {'type': 'StopPlace',\n",
       "   'id': '8592028',\n",
       "   'name': 'Lausanne, Délices',\n",
       "   'canton': 'VD',\n",
       "   'centroid': {'type': 'Point', 'coordinates': [6.628043, 46.512022]},\n",
       "   'tariffBorder': False,\n",
       "   'weighting': 17569,\n",
       "   'vehicleModes': [],\n",
       "   'links': {'detail': '/v3/stop-places/8592028'}},\n",
       "  {'type': 'StopPlace',\n",
       "   'id': '8592050',\n",
       "   'name': 'Lausanne, gare',\n",
       "   'canton': 'VD',\n",
       "   'centroid': {'type': 'Point', 'coordinates': [6.629652, 46.517604]},\n",
       "   'tariffBorder': False,\n",
       "   'weighting': 17569,\n",
       "   'vehicleModes': [],\n",
       "   'links': {'detail': '/v3/stop-places/8592050'}},\n",
       "  {'type': 'StopPlace',\n",
       "   'id': '8592061',\n",
       "   'name': 'Lausanne, Jordils',\n",
       "   'canton': 'VD',\n",
       "   'centroid': {'type': 'Point', 'coordinates': [6.627432, 46.509927]},\n",
       "   'tariffBorder': False,\n",
       "   'weighting': 17569,\n",
       "   'vehicleModes': [],\n",
       "   'links': {'detail': '/v3/stop-places/8592061'}},\n",
       "  {'type': 'StopPlace',\n",
       "   'id': '8592086',\n",
       "   'name': 'Lausanne, Ouchy-Olympique',\n",
       "   'canton': 'VD',\n",
       "   'centroid': {'type': 'Point', 'coordinates': [6.626641, 46.507473]},\n",
       "   'tariffBorder': False,\n",
       "   'weighting': 17569,\n",
       "   'vehicleModes': [],\n",
       "   'links': {'detail': '/v3/stop-places/8592086'}},\n",
       "  {'type': 'StopPlace',\n",
       "   'id': '8579237',\n",
       "   'name': 'Lausanne, Ours',\n",
       "   'canton': 'VD',\n",
       "   'centroid': {'type': 'Point', 'coordinates': [6.640673, 46.521245]},\n",
       "   'tariffBorder': False,\n",
       "   'weighting': 17569,\n",
       "   'vehicleModes': [],\n",
       "   'links': {'detail': '/v3/stop-places/8579237'}},\n",
       "  {'type': 'StopPlace',\n",
       "   'id': '8590442',\n",
       "   'name': 'Lausanne, Riponne-M. Béjart',\n",
       "   'canton': 'VD',\n",
       "   'centroid': {'type': 'Point', 'coordinates': [6.632026, 46.523069]},\n",
       "   'tariffBorder': False,\n",
       "   'weighting': 17569,\n",
       "   'vehicleModes': [],\n",
       "   'links': {'detail': '/v3/stop-places/8590442'}},\n",
       "  {'type': 'StopPlace',\n",
       "   'id': '8579238',\n",
       "   'name': 'Lausanne, Sallaz',\n",
       "   'canton': 'VD',\n",
       "   'centroid': {'type': 'Point', 'coordinates': [6.646193, 46.532814]},\n",
       "   'tariffBorder': False,\n",
       "   'weighting': 17569,\n",
       "   'vehicleModes': [],\n",
       "   'links': {'detail': '/v3/stop-places/8579238'}}]}"
      ]
     },
     "execution_count": 11,
     "metadata": {},
     "output_type": "execute_result"
    }
   ],
   "source": [
    "origin"
   ]
  },
  {
   "cell_type": "markdown",
   "metadata": {},
   "source": [
    "# Departure time"
   ]
  },
  {
   "cell_type": "code",
   "execution_count": 4,
   "metadata": {},
   "outputs": [],
   "source": [
    "trips = api.get_journey(origin=params['origin'], destination=params['destination'], date=params['date'], time=params['time'])"
   ]
  },
  {
   "cell_type": "code",
   "execution_count": 6,
   "metadata": {},
   "outputs": [
    {
     "data": {
      "text/plain": [
       "[datetime.datetime(2023, 4, 18, 13, 8),\n",
       " datetime.datetime(2023, 4, 18, 13, 32),\n",
       " datetime.datetime(2023, 4, 18, 13, 38),\n",
       " datetime.datetime(2023, 4, 18, 13, 53),\n",
       " datetime.datetime(2023, 4, 18, 14, 2)]"
      ]
     },
     "execution_count": 6,
     "metadata": {},
     "output_type": "execute_result"
    }
   ],
   "source": [
    "# Check the departure time of each trip\n",
    "hlp.get_departures_times(trips['trips'])"
   ]
  },
  {
   "cell_type": "code",
   "execution_count": 7,
   "metadata": {},
   "outputs": [
    {
     "ename": "AttributeError",
     "evalue": "module 'api_requests' has no attribute 'get_place'",
     "output_type": "error",
     "traceback": [
      "\u001b[0;31m---------------------------------------------------------------------------\u001b[0m",
      "\u001b[0;31mAttributeError\u001b[0m                            Traceback (most recent call last)",
      "\u001b[1;32m/Users/emmaboehly/Documents/Master3/Lauzhack23/Lauzhack23_SBB/emma.ipynb Cellule 6\u001b[0m line \u001b[0;36m3\n\u001b[1;32m      <a href='vscode-notebook-cell:/Users/emmaboehly/Documents/Master3/Lauzhack23/Lauzhack23_SBB/emma.ipynb#X12sZmlsZQ%3D%3D?line=0'>1</a>\u001b[0m \u001b[39m# Get the place coordinates\u001b[39;00m\n\u001b[1;32m      <a href='vscode-notebook-cell:/Users/emmaboehly/Documents/Master3/Lauzhack23/Lauzhack23_SBB/emma.ipynb#X12sZmlsZQ%3D%3D?line=1'>2</a>\u001b[0m station \u001b[39m=\u001b[39m \u001b[39m'\u001b[39m\u001b[39mLausanne\u001b[39m\u001b[39m'\u001b[39m\n\u001b[0;32m----> <a href='vscode-notebook-cell:/Users/emmaboehly/Documents/Master3/Lauzhack23/Lauzhack23_SBB/emma.ipynb#X12sZmlsZQ%3D%3D?line=2'>3</a>\u001b[0m origin \u001b[39m=\u001b[39m api\u001b[39m.\u001b[39;49mget_place(station)\n",
      "\u001b[0;31mAttributeError\u001b[0m: module 'api_requests' has no attribute 'get_place'"
     ]
    }
   ],
   "source": []
  },
  {
   "cell_type": "code",
   "execution_count": null,
   "metadata": {},
   "outputs": [],
   "source": []
  }
 ],
 "metadata": {
  "kernelspec": {
   "display_name": "LH23",
   "language": "python",
   "name": "python3"
  },
  "language_info": {
   "codemirror_mode": {
    "name": "ipython",
    "version": 3
   },
   "file_extension": ".py",
   "mimetype": "text/x-python",
   "name": "python",
   "nbconvert_exporter": "python",
   "pygments_lexer": "ipython3",
   "version": "3.12.0"
  }
 },
 "nbformat": 4,
 "nbformat_minor": 2
}
