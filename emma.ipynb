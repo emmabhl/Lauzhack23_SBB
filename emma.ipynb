{
 "cells": [
  {
   "cell_type": "code",
   "execution_count": 1,
   "metadata": {},
   "outputs": [],
   "source": [
    "import api_requests as api\n",
    "import helpers_sander as hlp\n",
    "import osm_helpers as osm\n",
    "from pyrosm.data import sources\n",
    "import pandas as pd\n",
    "import numpy as np"
   ]
  },
  {
   "cell_type": "code",
   "execution_count": null,
   "metadata": {},
   "outputs": [
    {
     "name": "stdout",
     "output_type": "stream",
     "text": [
      "Unexpected exception formatting exception. Falling back to standard exception\n"
     ]
    },
    {
     "name": "stderr",
     "output_type": "stream",
     "text": [
      "Traceback (most recent call last):\n",
      "  File \"/Users/emmaboehly/programmation/anaconda3/envs/LH23/lib/python3.12/site-packages/IPython/core/interactiveshell.py\", line 3550, in run_code\n",
      "    exec(code_obj, self.user_global_ns, self.user_ns)\n",
      "  File \"/var/folders/6p/skl5q4mn4kqcwg0hbd513bqr0000gn/T/ipykernel_5913/2193359063.py\", line 2, in <module>\n",
      "    osm.compute_all_travel_times()\n",
      "  File \"/Users/emmaboehly/Documents/Master3/Lauzhack23/Lauzhack23_SBB/osm_helpers.py\", line 66, in compute_all_travel_times\n",
      "    n, e = osm.get_network(nodes=True, network_type='driving')\n",
      "           ^^^^^^^^^^^^^^^^^^^^^^^^^^^^^^^^^^^^^^^^^^^^^^^^^^^\n",
      "  File \"/Users/emmaboehly/programmation/anaconda3/envs/LH23/lib/python3.12/site-packages/pyrosm/pyrosm.py\", line 246, in get_network\n",
      "    self._read_pbf(timestamp)\n",
      "  File \"/Users/emmaboehly/programmation/anaconda3/envs/LH23/lib/python3.12/site-packages/pyrosm/pyrosm.py\", line 132, in _read_pbf\n",
      "    self._get_pbf_elements(bounding_box)\n",
      "  File \"/Users/emmaboehly/programmation/anaconda3/envs/LH23/lib/python3.12/site-packages/pyrosm/pyrosm.py\", line 109, in _get_pbf_elements\n",
      "    nodes, ways, relations, node_coordinates = parse_osm_data(\n",
      "                                               ^^^^^^^^^^^^^^^\n",
      "  File \"pyrosm/pbfreader.pyx\", line 371, in pyrosm.pbfreader.parse_osm_data\n",
      "  File \"pyrosm/pbfreader.pyx\", line 377, in pyrosm.pbfreader.parse_osm_data\n",
      "  File \"pyrosm/pbfreader.pyx\", line 441, in pyrosm.pbfreader._parse_osm_data\n",
      "  File \"/Users/emmaboehly/programmation/anaconda3/envs/LH23/lib/python3.12/site-packages/pandas/core/frame.py\", line 5870, in set_index\n",
      "    raise KeyError(f\"None of {missing} are in the columns\")\n",
      "KeyError: \"None of ['id'] are in the columns\"\n",
      "\n",
      "During handling of the above exception, another exception occurred:\n",
      "\n",
      "Traceback (most recent call last):\n",
      "  File \"/Users/emmaboehly/programmation/anaconda3/envs/LH23/lib/python3.12/site-packages/IPython/core/interactiveshell.py\", line 2144, in showtraceback\n",
      "    stb = self.InteractiveTB.structured_traceback(\n",
      "          ^^^^^^^^^^^^^^^^^^^^^^^^^^^^^^^^^^^^^^^^\n",
      "  File \"/Users/emmaboehly/programmation/anaconda3/envs/LH23/lib/python3.12/site-packages/IPython/core/ultratb.py\", line 1435, in structured_traceback\n",
      "    return FormattedTB.structured_traceback(\n",
      "           ^^^^^^^^^^^^^^^^^^^^^^^^^^^^^^^^^\n",
      "  File \"/Users/emmaboehly/programmation/anaconda3/envs/LH23/lib/python3.12/site-packages/IPython/core/ultratb.py\", line 1326, in structured_traceback\n",
      "    return VerboseTB.structured_traceback(\n",
      "           ^^^^^^^^^^^^^^^^^^^^^^^^^^^^^^^\n",
      "  File \"/Users/emmaboehly/programmation/anaconda3/envs/LH23/lib/python3.12/site-packages/IPython/core/ultratb.py\", line 1173, in structured_traceback\n",
      "    formatted_exception = self.format_exception_as_a_whole(etype, evalue, etb, number_of_lines_of_context,\n",
      "                          ^^^^^^^^^^^^^^^^^^^^^^^^^^^^^^^^^^^^^^^^^^^^^^^^^^^^^^^^^^^^^^^^^^^^^^^^^^^^^^^^\n",
      "  File \"/Users/emmaboehly/programmation/anaconda3/envs/LH23/lib/python3.12/site-packages/IPython/core/ultratb.py\", line 1063, in format_exception_as_a_whole\n",
      "    self.get_records(etb, number_of_lines_of_context, tb_offset) if etb else []\n",
      "    ^^^^^^^^^^^^^^^^^^^^^^^^^^^^^^^^^^^^^^^^^^^^^^^^^^^^^^^^^^^^\n",
      "  File \"/Users/emmaboehly/programmation/anaconda3/envs/LH23/lib/python3.12/site-packages/IPython/core/ultratb.py\", line 1155, in get_records\n",
      "    FrameInfo(\n",
      "  File \"/Users/emmaboehly/programmation/anaconda3/envs/LH23/lib/python3.12/site-packages/IPython/core/ultratb.py\", line 780, in __init__\n",
      "    ix = inspect.getsourcelines(frame)\n",
      "         ^^^^^^^^^^^^^^^^^^^^^^^^^^^^^\n",
      "  File \"/Users/emmaboehly/programmation/anaconda3/envs/LH23/lib/python3.12/inspect.py\", line 1264, in getsourcelines\n",
      "    lines, lnum = findsource(object)\n",
      "                  ^^^^^^^^^^^^^^^^^^\n",
      "  File \"/Users/emmaboehly/programmation/anaconda3/envs/LH23/lib/python3.12/inspect.py\", line 1085, in findsource\n",
      "    raise OSError('source code not available')\n",
      "OSError: source code not available\n"
     ]
    }
   ],
   "source": [
    "# Download data\n",
    "osm.compute_all_travel_times()\n"
   ]
  },
  {
   "cell_type": "markdown",
   "metadata": {},
   "source": [
    "# Get Stations"
   ]
  },
  {
   "cell_type": "code",
   "execution_count": 3,
   "metadata": {},
   "outputs": [],
   "source": [
    "# Test data\n",
    "params = {\"origin\": \"8503000\", \n",
    "          \"destination\": \"8507000\", \n",
    "          \"date\": \"2023-04-18\", \n",
    "          \"time\": \"13:07\"}\n",
    "station = \"Zurich\""
   ]
  },
  {
   "cell_type": "code",
   "execution_count": 4,
   "metadata": {},
   "outputs": [],
   "source": [
    "# Use the function use_token() to get a token\n",
    "api.use_token()"
   ]
  },
  {
   "cell_type": "code",
   "execution_count": 5,
   "metadata": {},
   "outputs": [],
   "source": [
    "stations = hlp.get_stations(station)"
   ]
  },
  {
   "cell_type": "code",
   "execution_count": 6,
   "metadata": {},
   "outputs": [
    {
     "data": {
      "text/html": [
       "<div>\n",
       "<style scoped>\n",
       "    .dataframe tbody tr th:only-of-type {\n",
       "        vertical-align: middle;\n",
       "    }\n",
       "\n",
       "    .dataframe tbody tr th {\n",
       "        vertical-align: top;\n",
       "    }\n",
       "\n",
       "    .dataframe thead th {\n",
       "        text-align: right;\n",
       "    }\n",
       "</style>\n",
       "<table border=\"1\" class=\"dataframe\">\n",
       "  <thead>\n",
       "    <tr style=\"text-align: right;\">\n",
       "      <th></th>\n",
       "      <th>id</th>\n",
       "      <th>name</th>\n",
       "      <th>type</th>\n",
       "      <th>canton</th>\n",
       "      <th>centroid</th>\n",
       "    </tr>\n",
       "  </thead>\n",
       "  <tbody>\n",
       "    <tr>\n",
       "      <th>0</th>\n",
       "      <td>8503000</td>\n",
       "      <td>Zürich HB</td>\n",
       "      <td>StopPlace</td>\n",
       "      <td>ZH</td>\n",
       "      <td>[8.540193, 47.378177]</td>\n",
       "    </tr>\n",
       "    <tr>\n",
       "      <th>1</th>\n",
       "      <td>8503016</td>\n",
       "      <td>Zürich Flughafen</td>\n",
       "      <td>StopPlace</td>\n",
       "      <td>ZH</td>\n",
       "      <td>[8.562387, 47.450379]</td>\n",
       "    </tr>\n",
       "    <tr>\n",
       "      <th>2</th>\n",
       "      <td>A=4@O=Zurich, Osteria Centrale, Nordstrasse@X=...</td>\n",
       "      <td>Zurich, Osteria Centrale, Nordstrasse</td>\n",
       "      <td>PointOfInterest</td>\n",
       "      <td>ZH</td>\n",
       "      <td>[8.530484, 47.392794]</td>\n",
       "    </tr>\n",
       "    <tr>\n",
       "      <th>3</th>\n",
       "      <td>A=4@O=Zurich, Rosso, Geroldstrasse@X=8518322@Y...</td>\n",
       "      <td>Zurich, Rosso, Geroldstrasse</td>\n",
       "      <td>PointOfInterest</td>\n",
       "      <td>ZH</td>\n",
       "      <td>[8.518322, 47.385396]</td>\n",
       "    </tr>\n",
       "    <tr>\n",
       "      <th>4</th>\n",
       "      <td>A=4@O=Zumikon, Inter-Community School of Zuric...</td>\n",
       "      <td>Zumikon, Inter-Community School of Zurich, Str...</td>\n",
       "      <td>PointOfInterest</td>\n",
       "      <td>ZH</td>\n",
       "      <td>[8.622813, 47.338184]</td>\n",
       "    </tr>\n",
       "    <tr>\n",
       "      <th>5</th>\n",
       "      <td>A=4@O=Zürich, Blonde Zurich, Schaffhauserstras...</td>\n",
       "      <td>Zürich, Blonde Zurich, Schaffhauserstrasse</td>\n",
       "      <td>PointOfInterest</td>\n",
       "      <td>ZH</td>\n",
       "      <td>[8.538853, 47.389791]</td>\n",
       "    </tr>\n",
       "    <tr>\n",
       "      <th>6</th>\n",
       "      <td>A=4@O=Zürich, collab zurich, Langstrasse@X=852...</td>\n",
       "      <td>Zürich, collab zurich, Langstrasse</td>\n",
       "      <td>PointOfInterest</td>\n",
       "      <td>ZH</td>\n",
       "      <td>[8.526224, 47.37691]</td>\n",
       "    </tr>\n",
       "    <tr>\n",
       "      <th>7</th>\n",
       "      <td>A=4@O=Zürich, Cycle Store Zurich, Werdmühlepla...</td>\n",
       "      <td>Zürich, Cycle Store Zurich, Werdmühleplatz</td>\n",
       "      <td>PointOfInterest</td>\n",
       "      <td>ZH</td>\n",
       "      <td>[8.540184, 47.374941]</td>\n",
       "    </tr>\n",
       "    <tr>\n",
       "      <th>8</th>\n",
       "      <td>A=4@O=Zürich, Delicias latinas Zurich, Badener...</td>\n",
       "      <td>Zürich, Delicias latinas Zurich, Badenerstrasse</td>\n",
       "      <td>PointOfInterest</td>\n",
       "      <td>ZH</td>\n",
       "      <td>[8.515392, 47.376191]</td>\n",
       "    </tr>\n",
       "    <tr>\n",
       "      <th>9</th>\n",
       "      <td>A=4@O=Zürich, ibis Styles Zurich City Center, ...</td>\n",
       "      <td>Zürich, ibis Styles Zurich City Center, Stampf...</td>\n",
       "      <td>PointOfInterest</td>\n",
       "      <td>ZH</td>\n",
       "      <td>[8.542629, 47.381234]</td>\n",
       "    </tr>\n",
       "  </tbody>\n",
       "</table>\n",
       "</div>"
      ],
      "text/plain": [
       "                                                  id  \\\n",
       "0                                            8503000   \n",
       "1                                            8503016   \n",
       "2  A=4@O=Zurich, Osteria Centrale, Nordstrasse@X=...   \n",
       "3  A=4@O=Zurich, Rosso, Geroldstrasse@X=8518322@Y...   \n",
       "4  A=4@O=Zumikon, Inter-Community School of Zuric...   \n",
       "5  A=4@O=Zürich, Blonde Zurich, Schaffhauserstras...   \n",
       "6  A=4@O=Zürich, collab zurich, Langstrasse@X=852...   \n",
       "7  A=4@O=Zürich, Cycle Store Zurich, Werdmühlepla...   \n",
       "8  A=4@O=Zürich, Delicias latinas Zurich, Badener...   \n",
       "9  A=4@O=Zürich, ibis Styles Zurich City Center, ...   \n",
       "\n",
       "                                                name             type canton  \\\n",
       "0                                          Zürich HB        StopPlace     ZH   \n",
       "1                                   Zürich Flughafen        StopPlace     ZH   \n",
       "2              Zurich, Osteria Centrale, Nordstrasse  PointOfInterest     ZH   \n",
       "3                       Zurich, Rosso, Geroldstrasse  PointOfInterest     ZH   \n",
       "4  Zumikon, Inter-Community School of Zurich, Str...  PointOfInterest     ZH   \n",
       "5         Zürich, Blonde Zurich, Schaffhauserstrasse  PointOfInterest     ZH   \n",
       "6                 Zürich, collab zurich, Langstrasse  PointOfInterest     ZH   \n",
       "7         Zürich, Cycle Store Zurich, Werdmühleplatz  PointOfInterest     ZH   \n",
       "8    Zürich, Delicias latinas Zurich, Badenerstrasse  PointOfInterest     ZH   \n",
       "9  Zürich, ibis Styles Zurich City Center, Stampf...  PointOfInterest     ZH   \n",
       "\n",
       "                centroid  \n",
       "0  [8.540193, 47.378177]  \n",
       "1  [8.562387, 47.450379]  \n",
       "2  [8.530484, 47.392794]  \n",
       "3  [8.518322, 47.385396]  \n",
       "4  [8.622813, 47.338184]  \n",
       "5  [8.538853, 47.389791]  \n",
       "6   [8.526224, 47.37691]  \n",
       "7  [8.540184, 47.374941]  \n",
       "8  [8.515392, 47.376191]  \n",
       "9  [8.542629, 47.381234]  "
      ]
     },
     "execution_count": 6,
     "metadata": {},
     "output_type": "execute_result"
    }
   ],
   "source": [
    "stations"
   ]
  },
  {
   "cell_type": "markdown",
   "metadata": {},
   "source": [
    "# Departure time"
   ]
  },
  {
   "cell_type": "code",
   "execution_count": 7,
   "metadata": {},
   "outputs": [],
   "source": [
    "trips = api.get_journey(origin=params['origin'], destination=params['destination'], date=params['date'], time=params['time'])"
   ]
  },
  {
   "cell_type": "code",
   "execution_count": 8,
   "metadata": {},
   "outputs": [
    {
     "data": {
      "text/plain": [
       "[datetime.datetime(2023, 4, 18, 13, 8),\n",
       " datetime.datetime(2023, 4, 18, 13, 32),\n",
       " datetime.datetime(2023, 4, 18, 13, 38),\n",
       " datetime.datetime(2023, 4, 18, 13, 53),\n",
       " datetime.datetime(2023, 4, 18, 14, 2)]"
      ]
     },
     "execution_count": 8,
     "metadata": {},
     "output_type": "execute_result"
    }
   ],
   "source": [
    "# Check the departure time of each trip\n",
    "hlp.get_departures_times(trips['trips'])"
   ]
  },
  {
   "cell_type": "code",
   "execution_count": null,
   "metadata": {},
   "outputs": [],
   "source": []
  },
  {
   "cell_type": "code",
   "execution_count": null,
   "metadata": {},
   "outputs": [],
   "source": []
  }
 ],
 "metadata": {
  "kernelspec": {
   "display_name": "LH23",
   "language": "python",
   "name": "python3"
  },
  "language_info": {
   "codemirror_mode": {
    "name": "ipython",
    "version": 3
   },
   "file_extension": ".py",
   "mimetype": "text/x-python",
   "name": "python",
   "nbconvert_exporter": "python",
   "pygments_lexer": "ipython3",
   "version": "3.12.0"
  }
 },
 "nbformat": 4,
 "nbformat_minor": 2
}
