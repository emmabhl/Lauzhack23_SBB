{
 "cells": [
  {
   "cell_type": "code",
   "execution_count": 1,
   "metadata": {},
   "outputs": [],
   "source": [
    "import api_requests as api\n",
    "import helpers_sander as hlp"
   ]
  },
  {
   "cell_type": "code",
   "execution_count": 2,
   "metadata": {},
   "outputs": [],
   "source": [
    "# Test data\n",
    "params = {\"origin\": \"8503000\", \n",
    "          \"destination\": \"8507000\", \n",
    "          \"date\": \"2023-04-18\", \n",
    "          \"time\": \"13:07\"}"
   ]
  },
  {
   "cell_type": "code",
   "execution_count": 3,
   "metadata": {},
   "outputs": [],
   "source": [
    "# Use the function use_token() to get a token\n",
    "token = api.use_token()"
   ]
  },
  {
   "cell_type": "code",
   "execution_count": 4,
   "metadata": {},
   "outputs": [],
   "source": [
    "trips = api.get_journey(origin=params['origin'], destination=params['destination'], date=params['date'], time=params['time'])"
   ]
  },
  {
   "cell_type": "code",
   "execution_count": 6,
   "metadata": {},
   "outputs": [
    {
     "data": {
      "text/plain": [
       "[datetime.datetime(2023, 4, 18, 13, 8),\n",
       " datetime.datetime(2023, 4, 18, 13, 32),\n",
       " datetime.datetime(2023, 4, 18, 13, 38),\n",
       " datetime.datetime(2023, 4, 18, 13, 53),\n",
       " datetime.datetime(2023, 4, 18, 14, 2)]"
      ]
     },
     "execution_count": 6,
     "metadata": {},
     "output_type": "execute_result"
    }
   ],
   "source": [
    "# Check the departure time of each trip\n",
    "hlp.get_departures_times(trips['trips'])"
   ]
  },
  {
   "cell_type": "code",
   "execution_count": null,
   "metadata": {},
   "outputs": [],
   "source": []
  }
 ],
 "metadata": {
  "kernelspec": {
   "display_name": "LH23",
   "language": "python",
   "name": "python3"
  },
  "language_info": {
   "codemirror_mode": {
    "name": "ipython",
    "version": 3
   },
   "file_extension": ".py",
   "mimetype": "text/x-python",
   "name": "python",
   "nbconvert_exporter": "python",
   "pygments_lexer": "ipython3",
   "version": "3.12.0"
  }
 },
 "nbformat": 4,
 "nbformat_minor": 2
}
