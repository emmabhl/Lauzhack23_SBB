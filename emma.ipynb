{
 "cells": [
  {
   "cell_type": "code",
   "execution_count": 1,
   "metadata": {},
   "outputs": [],
   "source": [
    "import api_requests as api\n",
    "import helpers_sander as hlp"
   ]
  },
  {
   "cell_type": "code",
   "execution_count": 2,
   "metadata": {},
   "outputs": [],
   "source": [
    "# Test data\n",
    "params = {\"origin\": \"8503000\", \n",
    "          \"destination\": \"8507000\", \n",
    "          \"date\": \"2023-04-18\", \n",
    "          \"time\": \"13:07\"}\n",
    "station = \"Echandens\""
   ]
  },
  {
   "cell_type": "code",
   "execution_count": 3,
   "metadata": {},
   "outputs": [],
   "source": [
    "# Use the function use_token() to get a token\n",
    "api.use_token()"
   ]
  },
  {
   "cell_type": "code",
   "execution_count": 4,
   "metadata": {},
   "outputs": [],
   "source": [
    "stations = hlp.get_stations(station)"
   ]
  },
  {
   "cell_type": "code",
   "execution_count": 5,
   "metadata": {},
   "outputs": [
    {
     "data": {
      "text/html": [
       "<div>\n",
       "<style scoped>\n",
       "    .dataframe tbody tr th:only-of-type {\n",
       "        vertical-align: middle;\n",
       "    }\n",
       "\n",
       "    .dataframe tbody tr th {\n",
       "        vertical-align: top;\n",
       "    }\n",
       "\n",
       "    .dataframe thead th {\n",
       "        text-align: right;\n",
       "    }\n",
       "</style>\n",
       "<table border=\"1\" class=\"dataframe\">\n",
       "  <thead>\n",
       "    <tr style=\"text-align: right;\">\n",
       "      <th></th>\n",
       "      <th>id</th>\n",
       "      <th>name</th>\n",
       "      <th>type</th>\n",
       "      <th>canton</th>\n",
       "      <th>centroid</th>\n",
       "    </tr>\n",
       "  </thead>\n",
       "  <tbody>\n",
       "    <tr>\n",
       "      <th>0</th>\n",
       "      <td>8588875</td>\n",
       "      <td>Echandens, centre</td>\n",
       "      <td>StopPlace</td>\n",
       "      <td>VD</td>\n",
       "      <td>[6.541055, 46.534602]</td>\n",
       "    </tr>\n",
       "    <tr>\n",
       "      <th>1</th>\n",
       "      <td>8592244</td>\n",
       "      <td>Echandens, Chocolatière</td>\n",
       "      <td>StopPlace</td>\n",
       "      <td>VD</td>\n",
       "      <td>[6.546682, 46.536463]</td>\n",
       "    </tr>\n",
       "    <tr>\n",
       "      <th>2</th>\n",
       "      <td>8595213</td>\n",
       "      <td>Echandens, collège</td>\n",
       "      <td>StopPlace</td>\n",
       "      <td>VD</td>\n",
       "      <td>[6.541118, 46.5324]</td>\n",
       "    </tr>\n",
       "    <tr>\n",
       "      <th>3</th>\n",
       "      <td>8588874</td>\n",
       "      <td>Echandens, poste</td>\n",
       "      <td>StopPlace</td>\n",
       "      <td>VD</td>\n",
       "      <td>[6.541127, 46.530135]</td>\n",
       "    </tr>\n",
       "    <tr>\n",
       "      <th>4</th>\n",
       "      <td>8592243</td>\n",
       "      <td>Echandens, Riaz</td>\n",
       "      <td>StopPlace</td>\n",
       "      <td>VD</td>\n",
       "      <td>[6.542196, 46.536661]</td>\n",
       "    </tr>\n",
       "  </tbody>\n",
       "</table>\n",
       "</div>"
      ],
      "text/plain": [
       "        id                     name       type canton               centroid\n",
       "0  8588875        Echandens, centre  StopPlace     VD  [6.541055, 46.534602]\n",
       "1  8592244  Echandens, Chocolatière  StopPlace     VD  [6.546682, 46.536463]\n",
       "2  8595213       Echandens, collège  StopPlace     VD    [6.541118, 46.5324]\n",
       "3  8588874         Echandens, poste  StopPlace     VD  [6.541127, 46.530135]\n",
       "4  8592243          Echandens, Riaz  StopPlace     VD  [6.542196, 46.536661]"
      ]
     },
     "execution_count": 5,
     "metadata": {},
     "output_type": "execute_result"
    }
   ],
   "source": [
    "stations"
   ]
  },
  {
   "cell_type": "markdown",
   "metadata": {},
   "source": [
    "# Departure time"
   ]
  },
  {
   "cell_type": "code",
   "execution_count": 4,
   "metadata": {},
   "outputs": [],
   "source": [
    "trips = api.get_journey(origin=params['origin'], destination=params['destination'], date=params['date'], time=params['time'])"
   ]
  },
  {
   "cell_type": "code",
   "execution_count": 6,
   "metadata": {},
   "outputs": [
    {
     "data": {
      "text/plain": [
       "[datetime.datetime(2023, 4, 18, 13, 8),\n",
       " datetime.datetime(2023, 4, 18, 13, 32),\n",
       " datetime.datetime(2023, 4, 18, 13, 38),\n",
       " datetime.datetime(2023, 4, 18, 13, 53),\n",
       " datetime.datetime(2023, 4, 18, 14, 2)]"
      ]
     },
     "execution_count": 6,
     "metadata": {},
     "output_type": "execute_result"
    }
   ],
   "source": [
    "# Check the departure time of each trip\n",
    "hlp.get_departures_times(trips['trips'])"
   ]
  },
  {
   "cell_type": "code",
   "execution_count": 7,
   "metadata": {},
   "outputs": [
    {
     "ename": "AttributeError",
     "evalue": "module 'api_requests' has no attribute 'get_place'",
     "output_type": "error",
     "traceback": [
      "\u001b[0;31m---------------------------------------------------------------------------\u001b[0m",
      "\u001b[0;31mAttributeError\u001b[0m                            Traceback (most recent call last)",
      "\u001b[1;32m/Users/emmaboehly/Documents/Master3/Lauzhack23/Lauzhack23_SBB/emma.ipynb Cellule 6\u001b[0m line \u001b[0;36m3\n\u001b[1;32m      <a href='vscode-notebook-cell:/Users/emmaboehly/Documents/Master3/Lauzhack23/Lauzhack23_SBB/emma.ipynb#X12sZmlsZQ%3D%3D?line=0'>1</a>\u001b[0m \u001b[39m# Get the place coordinates\u001b[39;00m\n\u001b[1;32m      <a href='vscode-notebook-cell:/Users/emmaboehly/Documents/Master3/Lauzhack23/Lauzhack23_SBB/emma.ipynb#X12sZmlsZQ%3D%3D?line=1'>2</a>\u001b[0m station \u001b[39m=\u001b[39m \u001b[39m'\u001b[39m\u001b[39mLausanne\u001b[39m\u001b[39m'\u001b[39m\n\u001b[0;32m----> <a href='vscode-notebook-cell:/Users/emmaboehly/Documents/Master3/Lauzhack23/Lauzhack23_SBB/emma.ipynb#X12sZmlsZQ%3D%3D?line=2'>3</a>\u001b[0m origin \u001b[39m=\u001b[39m api\u001b[39m.\u001b[39;49mget_place(station)\n",
      "\u001b[0;31mAttributeError\u001b[0m: module 'api_requests' has no attribute 'get_place'"
     ]
    }
   ],
   "source": []
  },
  {
   "cell_type": "code",
   "execution_count": null,
   "metadata": {},
   "outputs": [],
   "source": []
  }
 ],
 "metadata": {
  "kernelspec": {
   "display_name": "LH23",
   "language": "python",
   "name": "python3"
  },
  "language_info": {
   "codemirror_mode": {
    "name": "ipython",
    "version": 3
   },
   "file_extension": ".py",
   "mimetype": "text/x-python",
   "name": "python",
   "nbconvert_exporter": "python",
   "pygments_lexer": "ipython3",
   "version": "3.12.0"
  }
 },
 "nbformat": 4,
 "nbformat_minor": 2
}
